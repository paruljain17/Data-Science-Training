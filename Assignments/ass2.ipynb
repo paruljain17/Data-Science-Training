{
 "cells": [
  {
   "cell_type": "markdown",
   "id": "de5106ef",
   "metadata": {},
   "source": [
    "1. if-elif-else in Python\n",
    "\n",
    "Used to check multiple conditions in sequence.\n",
    "\n",
    "Control flows top to bottom and stops at the first true condition.\n"
   ]
  },
  {
   "cell_type": "code",
   "execution_count": 31,
   "id": "51ba9d73",
   "metadata": {},
   "outputs": [],
   "source": [
    "def check_number(n):\n",
    "    if n > 0:\n",
    "        return \"Positive\"\n",
    "    elif n < 0:\n",
    "        return \"Negative\"\n",
    "    else:\n",
    "        return \"Zero\"\n"
   ]
  },
  {
   "cell_type": "markdown",
   "id": "cc78ea67",
   "metadata": {},
   "source": [
    "2.  For vs while loops\n",
    "\n",
    "for is used when number of iterations is known.\n",
    "\n",
    "while is used when condition is checked each time.\n"
   ]
  },
  {
   "cell_type": "code",
   "execution_count": 32,
   "id": "18e02011",
   "metadata": {},
   "outputs": [
    {
     "name": "stdout",
     "output_type": "stream",
     "text": [
      "Prime numbers between 1 and 100 are:\n",
      "2 3 5 7 11 13 17 19 23 29 31 37 41 43 47 53 59 61 67 71 73 79 83 89 97 "
     ]
    }
   ],
   "source": [
    "print(\"Prime numbers between 1 and 100 are:\")\n",
    "\n",
    "for num in range(2, 101):  # Start from 2 to 100\n",
    "    is_prime = True\n",
    "\n",
    "    for i in range(2, num):  # Check all numbers less than num\n",
    "        if num % i == 0:\n",
    "            is_prime = False\n",
    "            break\n",
    "\n",
    "    if is_prime:\n",
    "        print(num, end=' ')\n"
   ]
  },
  {
   "cell_type": "markdown",
   "id": "8d93552a",
   "metadata": {},
   "source": [
    "3. How Nested if Statements Work\n",
    "\n",
    "In Python, we can put one if statement inside another — this is called nesting."
   ]
  },
  {
   "cell_type": "code",
   "execution_count": 33,
   "id": "8a956910",
   "metadata": {},
   "outputs": [
    {
     "name": "stdout",
     "output_type": "stream",
     "text": [
      "x is positive\n",
      "x is even\n"
     ]
    }
   ],
   "source": [
    "x = 10\n",
    "\n",
    "if x > 0:\n",
    "    print(\"x is positive\")\n",
    "\n",
    "    if x % 2 == 0:\n",
    "        print(\"x is even\")\n"
   ]
  },
  {
   "cell_type": "markdown",
   "id": "c0850fcb",
   "metadata": {},
   "source": [
    " How to Avoid Deep Nesting \n",
    "\n",
    " A. Use logical operators (and, or)\n",
    " \n",
    "Combine conditions into one line:"
   ]
  },
  {
   "cell_type": "markdown",
   "id": "a79af394",
   "metadata": {},
   "source": [
    "if a > 0 and b > 0 and c > 0:\n",
    "\n",
    "    print(\"All are positive\")\n"
   ]
  },
  {
   "cell_type": "markdown",
   "id": "54a2a8fe",
   "metadata": {},
   "source": [
    "----->Use elif and else\n",
    "\n",
    "Instead of nesting if inside else:\n",
    "\n",
    "example:\n",
    "\n",
    "if score >= 90:\n",
    "\n",
    "    print(\"Grade A\")\n",
    "\n",
    "elif score >= 80:\n",
    "\n",
    "    print(\"Grade B\")\n",
    "\n",
    "else:\n",
    "\n",
    "    print(\"Grade C\")\n"
   ]
  },
  {
   "cell_type": "code",
   "execution_count": 34,
   "id": "0e98b8ab",
   "metadata": {},
   "outputs": [],
   "source": [
    "#coding challenge\n",
    "def find_largest(a, b, c):\n",
    "    if a >= b:\n",
    "        if a >= c:\n",
    "            return a\n",
    "        else:\n",
    "            return c\n",
    "    else:\n",
    "        if b >= c:\n",
    "            return b\n",
    "        else:\n",
    "            return c\n"
   ]
  },
  {
   "cell_type": "markdown",
   "id": "ec8691e0",
   "metadata": {},
   "source": [
    "4. Potential Risks of Using break:\n",
    "\n",
    "Reduced Code Readability:\n",
    "\n",
    "When break is used in the middle of complex logic, it can confuse readers about how and when the loop ends.\n",
    "\n",
    "If a loop has multiple break statements or is nested, understanding the flow can be tricky.\n",
    "\n",
    "Alternative:>\n",
    "\n",
    "= using list comprehension\n",
    "\n",
    "result = next((x for x in items if condition(x)), None)\n",
    " \n",
    "=Use while with explicit condition:\n",
    "\n",
    "Avoid break by including all conditions in the loop condition itself."
   ]
  },
  {
   "cell_type": "code",
   "execution_count": null,
   "id": "3658742d",
   "metadata": {},
   "outputs": [],
   "source": [
    "total_sum=0\n",
    "while True:\n",
    "  number = int(input(\"enter the number:\"))\n",
    "  if number<0:\n",
    "    break\n",
    "  total_sum+=number\n",
    "  print(\"The sum of all positive number\",total_sum)\n",
    "    \n",
    "  \n"
   ]
  },
  {
   "cell_type": "markdown",
   "id": "50c976c2",
   "metadata": {},
   "source": [
    "5.  Else Clause in Loops vs Conditional Statements :\n",
    "\n",
    "1. else in Conditional Statements\n",
    "\n",
    "The else clause in conditional statements is used to define a block of code that will be executed only if the if condition is false.\n",
    "\n",
    "if condition:\n",
    "\n",
    "else:\n",
    "\n",
    "\n",
    "2. else Clause in Loops (for / while)\n",
    "\n",
    "In Python, loops can also have an else clause. This is a unique feature not commonly found in other programming languages.\n",
    "\n",
    "while condition:\n",
    "\n",
    "Loop body\n",
    "\n",
    "if some_event:\n",
    "\n",
    "break\n",
    "\n",
    "else:\n",
    "\n",
    "Executes only if loop ends naturally (without 'break')\n",
    "\n",
    "\n",
    "\n",
    "\n",
    "\n"
   ]
  },
  {
   "cell_type": "code",
   "execution_count": 5,
   "id": "c32c6cde",
   "metadata": {},
   "outputs": [],
   "source": [
    "def search_element(lst, target):\n",
    " for index, element in enumerate(lst):\n",
    "  if element == target:\n",
    "\n",
    "        return index\n",
    "  else:\n",
    "    return -1\n"
   ]
  }
 ],
 "metadata": {
  "kernelspec": {
   "display_name": "Python 3",
   "language": "python",
   "name": "python3"
  },
  "language_info": {
   "codemirror_mode": {
    "name": "ipython",
    "version": 3
   },
   "file_extension": ".py",
   "mimetype": "text/x-python",
   "name": "python",
   "nbconvert_exporter": "python",
   "pygments_lexer": "ipython3",
   "version": "3.13.5"
  }
 },
 "nbformat": 4,
 "nbformat_minor": 5
}
