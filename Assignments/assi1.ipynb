{
 "cells": [
  {
   "cell_type": "markdown",
   "id": "b9b687c7",
   "metadata": {},
   "source": [
    "# Question 1"
   ]
  },
  {
   "cell_type": "markdown",
   "id": "9cf0ae7f",
   "metadata": {},
   "source": [
    "Lists are mutable: We can add, remove, or change elements.\n",
    "\n",
    "Tuples are immutable: Once created, elements cannot be changed.\n",
    "Tuples are faster than lists for iteration and access (less overhead).\n",
    "Tuples use less memory than lists.\n",
    "\n",
    "Lists are slower but more flexible.\n",
    "### Use list when:\n",
    " We need to modify the data (add/remove/update).\n",
    " The size of the data may change\n",
    "### Use Tuples When:\n",
    " The data is constant (e.g., coordinates, days of the week).\n",
    " we need better performance and memory efficiency.\n",
    "we want to use the sequence as a dictionary key or set element\n",
    "\n",
    "\n"
   ]
  },
  {
   "cell_type": "markdown",
   "id": "399d8ecb",
   "metadata": {},
   "source": [
    "# Question 2"
   ]
  },
  {
   "cell_type": "markdown",
   "id": "75cadccf",
   "metadata": {},
   "source": [
    "##  Types of Type Conversion in Python"
   ]
  },
  {
   "cell_type": "markdown",
   "id": "097e586f",
   "metadata": {},
   "source": [
    "##### 1. Implicit Type Conversion (Automatic)\n",
    "Python automatically converts one data type to another when needed.\n",
    "\n",
    "Happens when converting int to float in mixed expressions."
   ]
  },
  {
   "cell_type": "code",
   "execution_count": 130,
   "id": "e7a7612f",
   "metadata": {},
   "outputs": [
    {
     "name": "stdout",
     "output_type": "stream",
     "text": [
      "7.0\n"
     ]
    }
   ],
   "source": [
    "a = 5       # int\n",
    "b = 2.0     # float\n",
    "c = a + b   # result is float\n",
    "print(c)    \n"
   ]
  },
  {
   "cell_type": "markdown",
   "id": "bb7d83b0",
   "metadata": {},
   "source": [
    "#### Explicit Type Conversion (Type Casting)\n",
    "Done manually by using type functions like int(), float(), str(), list() etc."
   ]
  },
  {
   "cell_type": "markdown",
   "id": "7352520e",
   "metadata": {},
   "source": [
    "int <--->float"
   ]
  },
  {
   "cell_type": "code",
   "execution_count": 131,
   "id": "30655cad",
   "metadata": {},
   "outputs": [
    {
     "name": "stdout",
     "output_type": "stream",
     "text": [
      "10.0\n",
      "3\n"
     ]
    }
   ],
   "source": [
    "a = 10\n",
    "print(float(a))  # 10.0\n",
    "\n",
    "b = 3.7\n",
    "print(int(b))    # 3 (decimal part is removed)\n"
   ]
  },
  {
   "cell_type": "markdown",
   "id": "0d6ae591",
   "metadata": {},
   "source": [
    "str ↔ int/float"
   ]
  },
  {
   "cell_type": "code",
   "execution_count": 132,
   "id": "ff99d270",
   "metadata": {},
   "outputs": [
    {
     "name": "stdout",
     "output_type": "stream",
     "text": [
      "42\n",
      "3.14\n"
     ]
    }
   ],
   "source": [
    "num_str = \"42\"\n",
    "print(int(num_str))    # 42\n",
    "\n",
    "float_str = \"3.14\"\n",
    "print(float(float_str))  # 3.14\n"
   ]
  },
  {
   "cell_type": "markdown",
   "id": "d3eea87b",
   "metadata": {},
   "source": [
    "## Question 3"
   ]
  },
  {
   "cell_type": "markdown",
   "id": "912bd431",
   "metadata": {},
   "source": [
    "List:\n",
    "\n",
    "Ordered collection (maintains insertion order)\n",
    "\n",
    "Mutable (you can add, remove, or change elements)\n",
    "\n",
    "Allows duplicate elements\n",
    "\n",
    "Indexable (access elements by position)\n",
    "\n",
    "Best for: storing items in a specific sequence\n",
    "\n",
    "Example:"
   ]
  },
  {
   "cell_type": "code",
   "execution_count": 133,
   "id": "04f4034c",
   "metadata": {},
   "outputs": [],
   "source": [
    "fruits = ['apple', 'banana', 'apple']\n"
   ]
  },
  {
   "cell_type": "markdown",
   "id": "d28c689b",
   "metadata": {},
   "source": [
    "Set:\n",
    "\n",
    "Unordered collection (no guaranteed order)\n",
    "\n",
    "Mutable (you can add or remove elements)\n",
    "\n",
    "Does not allow duplicates\n",
    "\n",
    "Not indexable\n",
    "\n",
    "Supports set operations like union, intersection, difference\n",
    "\n",
    "Best for: storing unique items\n",
    "\n",
    "Example:\n",
    "\n",
    "\n"
   ]
  },
  {
   "cell_type": "code",
   "execution_count": 134,
   "id": "2de1a82f",
   "metadata": {},
   "outputs": [],
   "source": [
    "unique_numbers = {1, 2, 3, 2}\n"
   ]
  },
  {
   "cell_type": "markdown",
   "id": "f9ec0a29",
   "metadata": {},
   "source": [
    "Dictionary:\n",
    "\n",
    "Ordered (since Python 3.7)\n",
    "\n",
    "Mutable\n",
    "\n",
    "Stores data in key-value pairs\n",
    "\n",
    "Keys must be unique; values can repeat\n",
    "\n",
    "Fast lookups using keys\n",
    "\n",
    "Not indexable by position (access by key)\n",
    "\n",
    "Best for: mapping or structured data (like JSON)\n",
    "\n",
    "Example:"
   ]
  },
  {
   "cell_type": "code",
   "execution_count": 135,
   "id": "91972d1b",
   "metadata": {},
   "outputs": [],
   "source": [
    "student = {'name': 'Parul', 'age': 21}\n"
   ]
  },
  {
   "cell_type": "markdown",
   "id": "cfa30d55",
   "metadata": {},
   "source": [
    "When to Use:\n",
    "\n",
    "Use list when order matters and duplicates are allowed\n",
    "\n",
    "Use set when you need only unique items and fast membership tests\n",
    "\n",
    "Use dictionary when you need to associate values with unique keys"
   ]
  },
  {
   "cell_type": "markdown",
   "id": "b72b4760",
   "metadata": {},
   "source": [
    "## Question 4"
   ]
  },
  {
   "cell_type": "markdown",
   "id": "d9ec2f21",
   "metadata": {},
   "source": [
    "What are __repr__ and __str__?\n",
    "\n",
    "They are special methods used to define how an object should be represented as a string.\n",
    "\n",
    "__repr__ (Representation)\n",
    "\n",
    "Called by: repr(obj) or in debugging/console output.\n",
    "\n",
    "Goal: Return a string that is unambiguous and developer-friendly.\n",
    "\n",
    "Should ideally return code that could recreate the object.\n",
    "\n",
    "Used by: console, debuggers, and when you type the object name in Python shell.\n",
    "\n",
    "Example:"
   ]
  },
  {
   "cell_type": "code",
   "execution_count": 136,
   "id": "ee7199b2",
   "metadata": {},
   "outputs": [],
   "source": [
    "def __repr__(self):\n",
    "    return f\"Person(name='{self.name}', age={self.age})\"\n"
   ]
  },
  {
   "cell_type": "markdown",
   "id": "25639718",
   "metadata": {},
   "source": [
    "`__str__` → user-friendly string (for print)"
   ]
  },
  {
   "cell_type": "code",
   "execution_count": 137,
   "id": "e9e772a0",
   "metadata": {},
   "outputs": [],
   "source": [
    "def __str__(self):\n",
    "    return f\"{self.name}, Age: {self.age}\"\n"
   ]
  },
  {
   "cell_type": "markdown",
   "id": "7b706cbe",
   "metadata": {},
   "source": [
    "##  Question 5"
   ]
  },
  {
   "cell_type": "markdown",
   "id": "721e7eec",
   "metadata": {},
   "source": [
    "Python large integers (int in Python 2 vs 3)\n",
    "\n",
    "Python 3 handles big integers automatically (no size limit).\n",
    "\n",
    "Python 2 had int (limited) and long (big).\n",
    "\n",
    "```python\n",
    "x = 9999999999999999999999\n",
    "print(x)  # Works fine in Python 3\n"
   ]
  },
  {
   "cell_type": "markdown",
   "id": "e7fc618c",
   "metadata": {},
   "source": [
    "##  Question 6"
   ]
  },
  {
   "cell_type": "markdown",
   "id": "44bb38ee",
   "metadata": {},
   "source": [
    ". += vs + operator (mutable & immutable)\n",
    "\n",
    "`+` makes a new object\n",
    "\n",
    "`+=` modifies same object (if mutable)\n",
    "\n",
    "```python\n",
    "a = [1]; b = a; a += [2]; print(b)  # [1, 2]\n",
    "a = 1; b = a; a += 2; print(b)      # 1 (int is immutable)\n"
   ]
  },
  {
   "cell_type": "markdown",
   "id": "e440e55d",
   "metadata": {},
   "source": [
    "## Question 7"
   ]
  },
  {
   "cell_type": "markdown",
   "id": "4137baea",
   "metadata": {},
   "source": [
    "in operator in different data types\n",
    "\n",
    "Checks if a value exists:\n",
    "\n",
    "\n",
    "'a' in 'cat'       # True\n",
    "2 in [1,2,3]       # True\n",
    "'x' in {'x': 1}    # True (checks keys)\n"
   ]
  },
  {
   "cell_type": "markdown",
   "id": "71065887",
   "metadata": {},
   "source": [
    "## Question 8"
   ]
  },
  {
   "cell_type": "markdown",
   "id": "9cda92c9",
   "metadata": {},
   "source": [
    "a, b = 5, 3\n",
    "\n",
    "print(a & b)   # AND  => 1\n",
    "\n",
    "print(a | b)   # OR   => 7\n",
    "\n",
    "print(a ^ b)   # XOR  => 6\n",
    "\n",
    "print(~a)      # NOT  => -6\n",
    "\n",
    "print(a << 1)  # left shift => 10\n",
    "\n",
    "print(a >> 1) # right shift => 2\n"
   ]
  },
  {
   "cell_type": "markdown",
   "id": "b23fbee8",
   "metadata": {},
   "source": [
    "## Question 9"
   ]
  },
  {
   "cell_type": "markdown",
   "id": "c6d7f9be",
   "metadata": {},
   "source": [
    "Short form like: +=, -=, *=, /=\n",
    "\n",
    "```python\n",
    "x = 5\n",
    "x += 2  # 7\n",
    "x *= 3  # 21\n",
    "```\n"
   ]
  },
  {
   "cell_type": "markdown",
   "id": "8f807a7e",
   "metadata": {},
   "source": [
    "## Question 10"
   ]
  },
  {
   "cell_type": "markdown",
   "id": "35b61b17",
   "metadata": {},
   "source": [
    "is vs ==\n",
    "`==` checks value\n",
    "`is` checks memory location\n",
    "\n",
    "```python\n",
    "a = [1]; b = [1]\n",
    "print(a == b)  # True\n",
    "print(a is b)  # False\n",
    "```\n"
   ]
  }
 ],
 "metadata": {
  "kernelspec": {
   "display_name": "Python 3",
   "language": "python",
   "name": "python3"
  },
  "language_info": {
   "codemirror_mode": {
    "name": "ipython",
    "version": 3
   },
   "file_extension": ".py",
   "mimetype": "text/x-python",
   "name": "python",
   "nbconvert_exporter": "python",
   "pygments_lexer": "ipython3",
   "version": "3.13.5"
  }
 },
 "nbformat": 4,
 "nbformat_minor": 5
}
