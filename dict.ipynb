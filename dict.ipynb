{
 "cells": [
  {
   "cell_type": "markdown",
   "id": "87951c69",
   "metadata": {},
   "source": [
    "# Dictionary"
   ]
  },
  {
   "cell_type": "code",
   "execution_count": 4,
   "id": "29cc6cf1",
   "metadata": {},
   "outputs": [],
   "source": [
    "##dict -- key value pair\n",
    "##dict = {}\n",
    "##dict --ordered ,mutuable , and do not allow duplicates"
   ]
  },
  {
   "cell_type": "code",
   "execution_count": 5,
   "id": "326b6dc3",
   "metadata": {},
   "outputs": [
    {
     "name": "stdout",
     "output_type": "stream",
     "text": [
      "{'name': {'hello', 'world'}, 'age': 30, 'hobby': 'coding'}\n",
      "<class 'dict'>\n"
     ]
    }
   ],
   "source": [
    "dt = {\n",
    "    \"name\" : {\"hello\",\"world\"},\n",
    "    \"age\"  : 20,\n",
    "    \"hobby\" : \"coding\",\n",
    "    \"age\" : 30\n",
    "\n",
    "}\n",
    "print(dt)\n",
    "print (type(dt))"
   ]
  },
  {
   "cell_type": "code",
   "execution_count": 6,
   "id": "39c2a515",
   "metadata": {},
   "outputs": [
    {
     "name": "stdout",
     "output_type": "stream",
     "text": [
      "{'name': {'hello', 'world'}, 'age': 30, 'hobby': 'basketball'}\n",
      "{'name': {'hello', 'world'}, 'age': 30}\n",
      "{'name': {'hello', 'world'}, 'age': 30, 'hobby': 'volleyball', 'class': '10th'}\n"
     ]
    }
   ],
   "source": [
    "dt[\"hobby\"] =\"basketball\"\n",
    "print(dt)\n",
    "\n",
    "dt.keys()\n",
    "dt.get(\"name\")\n",
    "dt.values()\n",
    "dt.popitem()\n",
    "print(dt)\n",
    "#dt.pop(\"age\")\n",
    "dt.update({\"hobby\":\"volleyball\",\"class\":\"10th\"})\n",
    "print(dt)"
   ]
  },
  {
   "cell_type": "code",
   "execution_count": 7,
   "id": "4fd2d783",
   "metadata": {},
   "outputs": [
    {
     "name": "stdout",
     "output_type": "stream",
     "text": [
      "{'h': 10, 'e': 10, 'l': 10, 'o': 10}\n"
     ]
    }
   ],
   "source": [
    "#fromkeys\n",
    "dt ={}.fromkeys(\"hello\",10)\n",
    "print(dt)"
   ]
  }
 ],
 "metadata": {
  "kernelspec": {
   "display_name": "Python 3",
   "language": "python",
   "name": "python3"
  },
  "language_info": {
   "codemirror_mode": {
    "name": "ipython",
    "version": 3
   },
   "file_extension": ".py",
   "mimetype": "text/x-python",
   "name": "python",
   "nbconvert_exporter": "python",
   "pygments_lexer": "ipython3",
   "version": "3.13.5"
  }
 },
 "nbformat": 4,
 "nbformat_minor": 5
}
