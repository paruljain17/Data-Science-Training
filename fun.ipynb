{
 "cells": [
  {
   "cell_type": "code",
   "execution_count": null,
   "id": "5ffe4c59",
   "metadata": {},
   "outputs": [],
   "source": [
    "#functions is a block of code that is used to perform a particular task\n",
    "#types of functions\n",
    "#Built in functions\n",
    "#user defined functions"
   ]
  },
  {
   "cell_type": "code",
   "execution_count": null,
   "id": "4ade2566",
   "metadata": {},
   "outputs": [
    {
     "name": "stdout",
     "output_type": "stream",
     "text": [
      "hello\n"
     ]
    }
   ],
   "source": [
    "#user defined functions\n",
    "def hello():\n",
    "    #block of code\n",
    "    print(\"hello\")\n",
    "    #calling a function\n",
    "hello()"
   ]
  },
  {
   "cell_type": "code",
   "execution_count": 2,
   "id": "59aa3e1e",
   "metadata": {},
   "outputs": [
    {
     "name": "stdout",
     "output_type": "stream",
     "text": [
      "30\n"
     ]
    }
   ],
   "source": [
    "def add():\n",
    "    a= 10\n",
    "    b=20\n",
    "    c=a+b\n",
    "    print(c)\n",
    "\n",
    "add()"
   ]
  },
  {
   "cell_type": "code",
   "execution_count": 12,
   "id": "e6587254",
   "metadata": {},
   "outputs": [
    {
     "name": "stdout",
     "output_type": "stream",
     "text": [
      "88\n"
     ]
    }
   ],
   "source": [
    "#parameters and arguments\n",
    "def add(a,b):\n",
    "    print(a+b)\n",
    "\n",
    "add(10,78)\n",
    "\n"
   ]
  },
  {
   "cell_type": "code",
   "execution_count": 30,
   "id": "1c0f7588",
   "metadata": {},
   "outputs": [
    {
     "name": "stdout",
     "output_type": "stream",
     "text": [
      "the youngest child is naman\n"
     ]
    }
   ],
   "source": [
    "#arbitary arguments\n",
    "#concept which is used in function \n",
    "#args----*\n",
    "#when we dont know the number of arguments which to be passed \n",
    "def child(*kids):\n",
    "    print(\"the youngest child is \" +kids[2])\n",
    "child(\"raj\",\"aman\",\"naman\")\n",
    "\n"
   ]
  },
  {
   "cell_type": "code",
   "execution_count": null,
   "id": "589edb75",
   "metadata": {},
   "outputs": [
    {
     "name": "stdout",
     "output_type": "stream",
     "text": [
      "the youngest child is yash\n"
     ]
    }
   ],
   "source": [
    "#keyword arguments\n",
    "def child(child1,child2,child3):\n",
    "    print(\"the youngest child is \"+child3)\n",
    "child(child1=\"aditi\",child2=\"adi\",child3=\"yash\")\n"
   ]
  },
  {
   "cell_type": "code",
   "execution_count": 2,
   "id": "26e9f616",
   "metadata": {},
   "outputs": [
    {
     "name": "stdout",
     "output_type": "stream",
     "text": [
      "his name is piya\n"
     ]
    }
   ],
   "source": [
    "#arbitary keyword arguement \n",
    "#denoted by **\n",
    "#if we dont know how many keyword arguments that will be passed into our function  number of keywords arguments is unknown \n",
    "#we add double asterisk before the parameter name in the function defintion \n",
    "def child(**kids):\n",
    "    print(\"his name is \"+kids[\"second\"])\n",
    "child(first=\"riya\",second=\"piya\",third=\"jiya\")"
   ]
  },
  {
   "cell_type": "code",
   "execution_count": 5,
   "id": "172ebc18",
   "metadata": {},
   "outputs": [
    {
     "name": "stdout",
     "output_type": "stream",
     "text": [
      "i am from sweden\n",
      "i am from china\n",
      "i am from russia\n",
      "i am from india\n"
     ]
    }
   ],
   "source": [
    "#default parameter value\n",
    "#if we call the function wihout passing the argument it will take the default value\n",
    "def function(country=\"india\"):\n",
    "    print(\"i am from \"+ country)\n",
    "function(\"sweden\")\n",
    "function(\"china\")\n",
    "function(\"russia\")\n",
    "function()"
   ]
  },
  {
   "cell_type": "code",
   "execution_count": 27,
   "id": "d8f04d81",
   "metadata": {},
   "outputs": [
    {
     "name": "stdout",
     "output_type": "stream",
     "text": [
      "raj\n",
      "aman\n",
      "naman\n"
     ]
    }
   ],
   "source": [
    "#passing list as an argument \n",
    "def lst(name):\n",
    "    for i in name:\n",
    "        print(i)\n",
    "lst([\"raj\",\"aman\",\"naman\"])\n"
   ]
  },
  {
   "cell_type": "code",
   "execution_count": 8,
   "id": "39afabc1",
   "metadata": {},
   "outputs": [
    {
     "name": "stdout",
     "output_type": "stream",
     "text": [
      "138.6\n",
      "average: 2.0\n"
     ]
    }
   ],
   "source": [
    "#average function  \n",
    "def avg(*num):\n",
    "    a=30\n",
    "    b=4.6\n",
    "    c=5\n",
    "    d=98\n",
    "    e=2\n",
    "    f=a+b+c+d+e/2\n",
    "    print(f)\n",
    "avg()\n",
    "\n",
    "numbers=[1,2,3]\n",
    "average=sum(numbers)/len(numbers)\n",
    "print(\"average:\", average)"
   ]
  },
  {
   "cell_type": "code",
   "execution_count": 31,
   "id": "377a2c6b",
   "metadata": {},
   "outputs": [
    {
     "name": "stdout",
     "output_type": "stream",
     "text": [
      "[2, 4]\n"
     ]
    }
   ],
   "source": [
    "#list comprehension\n",
    "#to create a list in single line code\n",
    "#it is a way to create the list with less syntax\n",
    "#[ expression /output for loop condition ]\n",
    "\n",
    "lst =[1,2,3,4,5]\n",
    "newlist =[i for i in lst if i%2==0]\n",
    "print(newlist)"
   ]
  },
  {
   "cell_type": "code",
   "execution_count": 37,
   "id": "d6f2b805",
   "metadata": {},
   "outputs": [
    {
     "name": "stdout",
     "output_type": "stream",
     "text": [
      "['r', 'y', 'g', 'g']\n"
     ]
    }
   ],
   "source": [
    "#generate with the first letter of elements\n",
    "lst =[\"red\",\"yellow\",\"green\",\"grey\"]\n",
    "newlist =[i[0] for i in lst]\n",
    "print(newlist)"
   ]
  },
  {
   "cell_type": "code",
   "execution_count": null,
   "id": "a13c8e59",
   "metadata": {},
   "outputs": [
    {
     "name": "stdout",
     "output_type": "stream",
     "text": [
      "[1, 2, 3, 4, 5, 6, 7, 8, 9]\n"
     ]
    }
   ],
   "source": [
    "#flattening a list \n",
    "lst= [[1,2,3],[4,5,6],[7,8,9]]\n",
    "#output[1,2,3,4,5,6,7,8,9]\n",
    "newlist =[i for sublst in lst for i in sublst]\n",
    "print(newlist)"
   ]
  }
 ],
 "metadata": {
  "kernelspec": {
   "display_name": "Python 3",
   "language": "python",
   "name": "python3"
  },
  "language_info": {
   "codemirror_mode": {
    "name": "ipython",
    "version": 3
   },
   "file_extension": ".py",
   "mimetype": "text/x-python",
   "name": "python",
   "nbconvert_exporter": "python",
   "pygments_lexer": "ipython3",
   "version": "3.11.9"
  }
 },
 "nbformat": 4,
 "nbformat_minor": 5
}
