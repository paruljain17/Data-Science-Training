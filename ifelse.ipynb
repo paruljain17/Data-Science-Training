{
 "cells": [
  {
   "cell_type": "markdown",
   "id": "ce70ece4",
   "metadata": {},
   "source": [
    "# Conditional Statement"
   ]
  },
  {
   "cell_type": "code",
   "execution_count": 14,
   "id": "3932c852",
   "metadata": {},
   "outputs": [
    {
     "name": "stdout",
     "output_type": "stream",
     "text": [
      "b is equal to a\n"
     ]
    }
   ],
   "source": [
    "#conditional statement ----> if,elif,else\n",
    "\n",
    "a=10\n",
    "b=10\n",
    "if b>a:\n",
    "    #indentation\n",
    "    print(\"b is greater than a\")\n",
    "elif b==a:\n",
    "    print(\"b is equal to a\")\n",
    "else:\n",
    "    print(\"b is lesser than a\")    \n"
   ]
  },
  {
   "cell_type": "code",
   "execution_count": 15,
   "id": "c0f46d18",
   "metadata": {},
   "outputs": [
    {
     "name": "stdout",
     "output_type": "stream",
     "text": [
      "not true\n"
     ]
    }
   ],
   "source": [
    "a=10\n",
    "b=20\n",
    "c=30\n",
    "if not(b>a and a<c):\n",
    "    print(\"b is greater than a and c is lesser than b\")\n",
    "else:\n",
    "    print(\"not true\")"
   ]
  },
  {
   "cell_type": "code",
   "execution_count": 21,
   "id": "bb22bb04",
   "metadata": {},
   "outputs": [
    {
     "name": "stdout",
     "output_type": "stream",
     "text": [
      "21\n",
      "a is odd\n"
     ]
    }
   ],
   "source": [
    "#nested if else\n",
    "a= int (input(\"enter a number \"))\n",
    "print (a)\n",
    "\n",
    "if a>0:\n",
    "    if a%2==0:\n",
    "        print(\"a is even \")\n",
    "    else:\n",
    "        print(\"a is odd\")\n",
    "else:\n",
    "    print(\"a is negative\") "
   ]
  },
  {
   "cell_type": "code",
   "execution_count": 22,
   "id": "3d2e95d7",
   "metadata": {},
   "outputs": [
    {
     "name": "stdout",
     "output_type": "stream",
     "text": [
      "2004\n",
      "year is leap year\n"
     ]
    }
   ],
   "source": [
    "#is year is leap or not?\n",
    "a = int(input(\"enter a year\"))\n",
    "print(a)\n",
    "if a%4==0:\n",
    "    print(\"year is leap year\")\n",
    "else:\n",
    "    print(\"year is not a leap year\") "
   ]
  },
  {
   "cell_type": "markdown",
   "id": "2c4d5913",
   "metadata": {},
   "source": [
    "# Loops"
   ]
  },
  {
   "cell_type": "code",
   "execution_count": 39,
   "id": "11272862",
   "metadata": {},
   "outputs": [
    {
     "name": "stdout",
     "output_type": "stream",
     "text": [
      "name = Parul\n",
      "age = 15\n",
      "hobby = coding\n"
     ]
    }
   ],
   "source": [
    "#two loops in python--> for and while\n",
    "#for loop is iterating over sequence(list,tuple,dictionary)\n",
    "#string\n",
    "#for i in \"hello\":\n",
    "    #print(i,end=\" \")\n",
    "\n",
    "#list\n",
    "#lst = [\"red\",\"yellow\",\"blue\"]\n",
    "#for i in lst:\n",
    "   # print(i)\n",
    "\n",
    "#dictionary\n",
    "dt = {\n",
    "    \"name\":\"Parul\",\n",
    "    \"age\":15,\n",
    "    \"hobby\":\"coding\",\n",
    "}\n",
    "\n",
    "for i,y in dt.items():\n",
    "    print(i,\"=\",y)"
   ]
  },
  {
   "cell_type": "code",
   "execution_count": 43,
   "id": "c7bdf054",
   "metadata": {},
   "outputs": [
    {
     "name": "stdout",
     "output_type": "stream",
     "text": [
      "10\n",
      "11\n"
     ]
    }
   ],
   "source": [
    "for i in range(10,12):\n",
    "    print(i)"
   ]
  },
  {
   "cell_type": "code",
   "execution_count": 44,
   "id": "31243c0c",
   "metadata": {},
   "outputs": [
    {
     "name": "stdout",
     "output_type": "stream",
     "text": [
      "1 red\n",
      "1 yellow\n",
      "1 blue\n",
      "2 red\n",
      "2 yellow\n",
      "2 blue\n",
      "3 red\n",
      "3 yellow\n",
      "3 blue\n"
     ]
    }
   ],
   "source": [
    "#nested for loop\n",
    "lst1 = [1,2,3]\n",
    "lst2 = [\"red\",\"yellow\",\"blue\"]\n",
    "for i in lst1:\n",
    "    for j in lst2:\n",
    "        print(i,j)"
   ]
  },
  {
   "cell_type": "code",
   "execution_count": 62,
   "id": "44bed0ab",
   "metadata": {},
   "outputs": [
    {
     "name": "stdout",
     "output_type": "stream",
     "text": [
      "[4, 9, 16, 25]\n"
     ]
    }
   ],
   "source": [
    "#break and continue\n",
    "#for i in range(1,10):\n",
    "    #if i==5:\n",
    "        #break\n",
    "        #continue\n",
    "    #print(i)\n",
    "\n",
    "lst =[2,3,4,5,]\n",
    "lst1 =[]\n",
    "\n",
    "for i in lst:\n",
    "    lst1.append(i*i)\n",
    "print(lst1)\n",
    "    \n",
    "    "
   ]
  },
  {
   "cell_type": "code",
   "execution_count": 73,
   "id": "d8d519c4",
   "metadata": {},
   "outputs": [
    {
     "name": "stdout",
     "output_type": "stream",
     "text": [
      "10\n",
      "9\n",
      "8\n",
      "7\n",
      "6\n",
      "5\n",
      "4\n",
      "3\n",
      "2\n",
      "1\n"
     ]
    }
   ],
   "source": [
    "#while loop\n",
    "i= 10\n",
    "while i>=1:\n",
    "    print(i)\n",
    "    i-=1"
   ]
  },
  {
   "cell_type": "code",
   "execution_count": 3,
   "id": "a48b71e8",
   "metadata": {},
   "outputs": [
    {
     "name": "stdout",
     "output_type": "stream",
     "text": [
      "1\n",
      "3\n",
      "6\n",
      "10\n",
      "15\n",
      "21\n",
      "28\n",
      "36\n",
      "45\n",
      "55\n"
     ]
    }
   ],
   "source": [
    "#find the sum of numbers from 1 to 10 using while loop\n",
    "i=1\n",
    "sum = 0\n",
    "while i<=10:\n",
    "    sum +=i\n",
    "    i+=1\n",
    "    print(sum)"
   ]
  }
 ],
 "metadata": {
  "kernelspec": {
   "display_name": "Python 3",
   "language": "python",
   "name": "python3"
  },
  "language_info": {
   "codemirror_mode": {
    "name": "ipython",
    "version": 3
   },
   "file_extension": ".py",
   "mimetype": "text/x-python",
   "name": "python",
   "nbconvert_exporter": "python",
   "pygments_lexer": "ipython3",
   "version": "3.11.9"
  }
 },
 "nbformat": 4,
 "nbformat_minor": 5
}
