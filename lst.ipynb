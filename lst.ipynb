{
 "cells": [
  {
   "cell_type": "markdown",
   "id": "f38dbffa",
   "metadata": {},
   "source": [
    "# Sets"
   ]
  },
  {
   "cell_type": "code",
   "execution_count": 22,
   "id": "f27284bc",
   "metadata": {},
   "outputs": [],
   "source": [
    "#sets = {}\n",
    "#unordered,unchangeable, dont allow duplicate\n",
    "#uses to perform mathematical operation"
   ]
  },
  {
   "cell_type": "code",
   "execution_count": 23,
   "id": "a355d2d1",
   "metadata": {},
   "outputs": [
    {
     "name": "stdout",
     "output_type": "stream",
     "text": [
      "{1, 2, 'hello'}\n",
      "<class 'set'>\n"
     ]
    }
   ],
   "source": [
    "st={1,2,\"hello\",True,\"hello\"}\n",
    "print(st)\n",
    "print(type(st))\n"
   ]
  },
  {
   "cell_type": "code",
   "execution_count": 37,
   "id": "c0549f9e",
   "metadata": {},
   "outputs": [
    {
     "name": "stdout",
     "output_type": "stream",
     "text": [
      "{1, 2, 3, 4, 5}\n",
      "{3}\n",
      "{3}\n",
      "{1, 2}\n",
      "{4, 5}\n",
      "False\n",
      "False\n",
      "False\n",
      "False\n",
      "{3}\n",
      "{3, 4, 5}\n",
      "set()\n",
      "{3, 4, 5}\n",
      "{3, 4, 5}\n",
      "set()\n"
     ]
    }
   ],
   "source": [
    "#st.add(\"python\")\n",
    "#st.update([1,2,3,4,5])\n",
    "#st.remove(7) #ye element present hone pr error dega\n",
    "\n",
    "#st.discard(7) #ye error show nhi krega same set print krdega\n",
    "#print(st)\n",
    "\n",
    "a= {1,2,3}\n",
    "b={3,4,5}\n",
    "print(a.union(b))\n",
    "print(a.intersection(b))\n",
    "print(b.intersection(a))\n",
    "print(a.difference(b))\n",
    "print(b.difference(a))\n",
    "#symmetric difference\n",
    "#return the elememts in either set but not both\n",
    "#print(a.symmetric_difference(b))\n",
    "#subset\n",
    "##check if all elements of one set are in another\n",
    "print(a.issubset(b))\n",
    "#superset  cehck if one set conatins all the elements of another\n",
    "print(a.issuperset(b))\n",
    "#disjoint  -->check if two sets have no common elements\n",
    "print(a.isdisjoint(b))\n",
    "print(b.isdisjoint(a))\n",
    "\n",
    "\n",
    "#intersection update\n",
    "#update the set with the intersection of another\n",
    "a.intersection_update(b)\n",
    "print(a)\n",
    "a.intersection_update(b)\n",
    "print(b)\n",
    " #difference update\n",
    "a.difference_update(b)\n",
    "print(a)\n",
    "b.difference_update(a)\n",
    "print(b)\n",
    "#symmetric difference update\n",
    "a.symmetric_difference_update(b)\n",
    "print(a)\n",
    "b.symmetric_difference_update(a)\n",
    "print(b)\n",
    "\n"
   ]
  },
  {
   "cell_type": "markdown",
   "id": "23e09272",
   "metadata": {},
   "source": [
    "# Tuple"
   ]
  },
  {
   "cell_type": "code",
   "execution_count": 1,
   "id": "6d08c038",
   "metadata": {},
   "outputs": [
    {
     "name": "stdout",
     "output_type": "stream",
     "text": [
      "('red', 'yellow', 'green', 'black', 'grey', 'red')\n",
      "<class 'tuple'>\n"
     ]
    }
   ],
   "source": [
    "##tpl = ordered,immutable,allows duplicacy,heterogenous,indexeable,sliceable\n",
    "#tpl =()\n",
    "tpl = (\"red\", \"yellow\",\"green\",\"black\",\"grey\",\"red\")\n",
    "print(tpl)\n",
    "print(type(tpl))"
   ]
  },
  {
   "cell_type": "code",
   "execution_count": 26,
   "id": "60f9d273",
   "metadata": {},
   "outputs": [
    {
     "data": {
      "text/plain": [
       "2"
      ]
     },
     "execution_count": 26,
     "metadata": {},
     "output_type": "execute_result"
    }
   ],
   "source": [
    "#methods\n",
    "#kuch bhi krte hai like ek data type ko dusre me conevert krna called typecasting\n",
    "tpl = (\"red\", \"yellow\",\"green\",\"black\",\"grey\")\n",
    "tpl.count(\"red\")\n",
    "tpl.index(\"green\")"
   ]
  },
  {
   "cell_type": "markdown",
   "id": "638bcc6e",
   "metadata": {},
   "source": [
    "# List"
   ]
  },
  {
   "cell_type": "code",
   "execution_count": 27,
   "id": "c9e9c32f",
   "metadata": {},
   "outputs": [
    {
     "data": {
      "text/plain": [
       "['grey', 'black', 'green', 'yellow', 'red']"
      ]
     },
     "execution_count": 27,
     "metadata": {},
     "output_type": "execute_result"
    }
   ],
   "source": [
    "lst = [\"red\", \"yellow\",\"green\",\"black\",\"grey\"]\n",
    "#lst.count(\"red\")\n",
    "#lst.index(\"red\")\n",
    "#lst2=lst.copy()\n",
    "#lst2\n",
    "#lst.clear()\n",
    "#lst\n",
    "#del lst\n",
    "#lst.insert(2,\"white\")#bich me insert kregaa\n",
    "#lst\n",
    "#lst.append(\"white\")\n",
    "#lst.extend([\"white\",\"grey\"])\n",
    "#lst.remove(\"black\")\n",
    "#lst\n",
    "#lst.pop(1)\n",
    "#lst.sort(reverse=True)\n",
    "lst[::-1]\n",
    "# lst\n"
   ]
  },
  {
   "cell_type": "code",
   "execution_count": 28,
   "id": "0a1e38b6",
   "metadata": {},
   "outputs": [
    {
     "name": "stdout",
     "output_type": "stream",
     "text": [
      "['red', [7, 5], 'green', 'black', 'fdg']\n"
     ]
    },
    {
     "data": {
      "text/plain": [
       "[10, 20, [30, 40, [50, 6000], 70, 80], 90, 50]"
      ]
     },
     "execution_count": 28,
     "metadata": {},
     "output_type": "execute_result"
    }
   ],
   "source": [
    "lst = [\"red\", \"yellow\",\"green\",\"black\",\"fdg\"]\n",
    "\n",
    "lst[1]= [7,5]\n",
    "print(lst)\n",
    "lst =[10,20,[30,40,[50,60],70,80],90,50]\n",
    "lst[2][2][1] = 6000\n",
    "lst"
   ]
  },
  {
   "cell_type": "code",
   "execution_count": null,
   "id": "7901c606",
   "metadata": {},
   "outputs": [
    {
     "name": "stdout",
     "output_type": "stream",
     "text": [
      "[1, 2, 'hello', True, 33.34, 'hello']\n",
      "<class 'list'>\n"
     ]
    }
   ],
   "source": [
    "#mutable ordered,heterogenous\n",
    "#lst =[]\n",
    "list = [1,2,\"hello\", True ,33.34,\"hello\"]\n",
    "print(list)\n",
    "print(type(list))"
   ]
  },
  {
   "cell_type": "code",
   "execution_count": 30,
   "id": "0a5988f0",
   "metadata": {},
   "outputs": [
    {
     "name": "stdout",
     "output_type": "stream",
     "text": [
      "hello world\n"
     ]
    }
   ],
   "source": [
    "print(\"hello world\")"
   ]
  },
  {
   "cell_type": "markdown",
   "id": "24f9ddb1",
   "metadata": {},
   "source": []
  }
 ],
 "metadata": {
  "kernelspec": {
   "display_name": "Python 3",
   "language": "python",
   "name": "python3"
  },
  "language_info": {
   "codemirror_mode": {
    "name": "ipython",
    "version": 3
   },
   "file_extension": ".py",
   "mimetype": "text/x-python",
   "name": "python",
   "nbconvert_exporter": "python",
   "pygments_lexer": "ipython3",
   "version": "3.13.5"
  }
 },
 "nbformat": 4,
 "nbformat_minor": 5
}
