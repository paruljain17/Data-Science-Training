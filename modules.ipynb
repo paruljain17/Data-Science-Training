{
 "cells": [
  {
   "cell_type": "code",
   "execution_count": null,
   "id": "99a766be",
   "metadata": {},
   "outputs": [],
   "source": [
    "#modules -- importing other python files into current file\n",
    "#modules is a single python file(.py)\n",
    "#there are three types of modules\n",
    "\n",
    "#1. built-in modules ----Os,re,math,datetime\n",
    "#2.third party modules----pandas,numpy\n",
    "#3.user defined modules"
   ]
  },
  {
   "cell_type": "code",
   "execution_count": null,
   "id": "f7979f45",
   "metadata": {},
   "outputs": [],
   "source": [
    "# import os\n",
    "# from functools import reduce "
   ]
  },
  {
   "cell_type": "code",
   "execution_count": 1,
   "id": "274e7661",
   "metadata": {},
   "outputs": [
    {
     "name": "stdout",
     "output_type": "stream",
     "text": [
      "5\n"
     ]
    }
   ],
   "source": [
    "from basic import addFunction\n",
    "print (addFunction(2,3))"
   ]
  }
 ],
 "metadata": {
  "kernelspec": {
   "display_name": "Python 3",
   "language": "python",
   "name": "python3"
  },
  "language_info": {
   "codemirror_mode": {
    "name": "ipython",
    "version": 3
   },
   "file_extension": ".py",
   "mimetype": "text/x-python",
   "name": "python",
   "nbconvert_exporter": "python",
   "pygments_lexer": "ipython3",
   "version": "3.11.9"
  }
 },
 "nbformat": 4,
 "nbformat_minor": 5
}
