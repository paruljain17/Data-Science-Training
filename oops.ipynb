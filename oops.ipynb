{
 "cells": [
  {
   "cell_type": "code",
   "execution_count": null,
   "id": "44ea120f",
   "metadata": {},
   "outputs": [],
   "source": [
    "#class,object,method\n",
    "#types of oops\n",
    "#inheritance,polymorphism,encapsulation\n",
    "##inheritance--->single,multiple,multilevel,hierachial,hybrid"
   ]
  },
  {
   "cell_type": "code",
   "execution_count": null,
   "id": "8d538d9e",
   "metadata": {},
   "outputs": [],
   "source": [
    "#classs=blueprint of object\n",
    "#object=instance of class"
   ]
  },
  {
   "cell_type": "code",
   "execution_count": 4,
   "id": "9ad0cf5b",
   "metadata": {},
   "outputs": [
    {
     "data": {
      "text/plain": [
       "'abcxyz'"
      ]
     },
     "execution_count": 4,
     "metadata": {},
     "output_type": "execute_result"
    }
   ],
   "source": [
    "class car:\n",
    "    #class variable\n",
    "    num1=10\n",
    "    num2=20\n",
    "    name=\"abc\"\n",
    "    model=\"xyz\"\n",
    "#class k andar function hoga toh that is known as method\n",
    "#self is used to access the variables of class inside the class\n",
    "    def add(self):\n",
    "        return self.num1 + self.num2\n",
    "    def display(self):\n",
    "        return self.name + self.model\n",
    "    \n",
    "\n",
    "obj = car()\n",
    "obj.display()\n",
    "\n"
   ]
  },
  {
   "cell_type": "code",
   "execution_count": 1,
   "id": "8fa0a2ee",
   "metadata": {},
   "outputs": [
    {
     "data": {
      "text/plain": [
       "('lion', 10)"
      ]
     },
     "execution_count": 1,
     "metadata": {},
     "output_type": "execute_result"
    }
   ],
   "source": [
    "#init -- constructor --initialize the variable \n",
    "#it is used when we want to take input from the user \n",
    "class animal:\n",
    "    def __init__(self,name,age):\n",
    "        self.name= name\n",
    "        self.age= age \n",
    "    def display(self):\n",
    "        return self.name , self.age\n",
    "obj = animal(\"lion\",10)\n",
    "obj.display()\n",
    "\n"
   ]
  },
  {
   "cell_type": "code",
   "execution_count": 2,
   "id": "30f9b6a9",
   "metadata": {},
   "outputs": [
    {
     "name": "stdout",
     "output_type": "stream",
     "text": [
      "car\n",
      "bike\n"
     ]
    }
   ],
   "source": [
    "#single inheritance\n",
    "class car:\n",
    "    def display(self):\n",
    "        return \"car\"\n",
    "class bike(car):\n",
    "    def show(self):\n",
    "        return \"bike\"\n",
    "obj =bike()\n",
    "print(obj.display())\n",
    "print(obj.show())\n",
    "\n",
    "        \n",
    "    \n"
   ]
  },
  {
   "cell_type": "code",
   "execution_count": 23,
   "id": "fe3ede1d",
   "metadata": {},
   "outputs": [
    {
     "name": "stdout",
     "output_type": "stream",
     "text": [
      "abc\n"
     ]
    }
   ],
   "source": [
    "#super keyword is used to acess the method and class of parent class int the child class\n",
    "\n",
    "class person:\n",
    "    def __init__(self,name):\n",
    "        self.name=name\n",
    "    def show(self):\n",
    "        return self.name\n",
    "    \n",
    "\n",
    "   \n",
    "\n",
    "class employee(person):\n",
    "    def __init__(self,name,salary):\n",
    "        super().__init__(name)\n",
    "        self.salary =salary\n",
    "    # def showsalary(self):\n",
    "    #         return self.salary\n",
    "\n",
    "   \n",
    "\n",
    "obj = employee(\"abc\",2000)\n",
    "print(obj.show())\n"
   ]
  },
  {
   "cell_type": "code",
   "execution_count": 5,
   "id": "c53cd74c",
   "metadata": {},
   "outputs": [
    {
     "name": "stdout",
     "output_type": "stream",
     "text": [
      "abc\n",
      "3000\n"
     ]
    }
   ],
   "source": [
    "#multiple inheritance--->single child class and multiple parent class means child is inherit from the multiple parent class\n",
    "class person:\n",
    "    def __init__(self,name):\n",
    "        self.name=name\n",
    "    def show(self):\n",
    "        return self.name\n",
    "    \n",
    "\n",
    "   \n",
    "\n",
    "class employee(person):\n",
    "    def __init__(self,name,salary):\n",
    "        super().__init__(name)\n",
    "        self.salary =salary\n",
    "    def shows(self):\n",
    "        return self.salary\n",
    "\n",
    "class job:\n",
    "    def __init__(self,salary):\n",
    "        self.salary = salary\n",
    "\n",
    "class EmployeePersonJjb(employee,job):\n",
    "        def __init__(self, name, salary):\n",
    "            employee.__init__(self,name,salary)\n",
    "            job.__init__(self,salary)\n",
    "obj = employee(\"abc\",3000)\n",
    "print(obj.show())\n",
    "print(obj.shows())\n",
    "           "
   ]
  },
  {
   "cell_type": "code",
   "execution_count": 25,
   "id": "d3a98648",
   "metadata": {},
   "outputs": [
    {
     "name": "stdout",
     "output_type": "stream",
     "text": [
      "meow\n",
      "bark\n"
     ]
    }
   ],
   "source": [
    "#polymorphism --many forms ---the same function or method behave differently based on the input\n",
    "\n",
    "class Cat:\n",
    "    def sound(self):\n",
    "        return \"meow\"\n",
    "   \n",
    "class Dog:\n",
    "    def sound(self):\n",
    "        return \"bark\"\n",
    "    \n",
    "def make_sound(animal):\n",
    "    return animal.sound()\n",
    "\n",
    "Obj1= Cat()\n",
    "Obj2=Dog()\n",
    "\n",
    "print(make_sound(Obj1))\n",
    "print(make_sound(Obj2))\n"
   ]
  },
  {
   "cell_type": "code",
   "execution_count": 37,
   "id": "5723d202",
   "metadata": {},
   "outputs": [
    {
     "name": "stdout",
     "output_type": "stream",
     "text": [
      "28.259999999999998\n",
      "36\n",
      "21\n"
     ]
    }
   ],
   "source": [
    "class circle:\n",
    "    def area(self):\n",
    "        r = int(input(\"enter the value of radius\"))\n",
    "        return 3.14*r*r\n",
    "       \n",
    "    \n",
    "\n",
    "class square:\n",
    "    def area(self):\n",
    "         a = int(input(\"enter the value of side of square a\"))\n",
    "         return a*a\n",
    "class rectangle:\n",
    "    def area(self):\n",
    "        l=int(input(\"enter the value of length\"))\n",
    "        b=int(input(\"emter the value of breadth\"))\n",
    "        return l*b\n",
    "\n",
    "def shape_area(shape):\n",
    "    return shape.area()\n",
    "\n",
    "c = circle()\n",
    "s = square()\n",
    "r = rectangle()\n",
    "\n",
    "print(shape_area(c))\n",
    "print(shape_area(s))\n",
    "print(shape_area(r))"
   ]
  },
  {
   "cell_type": "code",
   "execution_count": null,
   "id": "ae867ceb",
   "metadata": {},
   "outputs": [],
   "source": [
    "#encapsulation\n",
    "##it means hiding the internal details of a class and \n",
    "##protecting data from being access or modified directly by the \n",
    "# outside world\n",
    "##we can do it by using private and protected variable\n",
    "##private variable -- __name\n",
    "##cannot be accessible outside the class\n",
    "\n",
    "\n",
    "##protected variable -- _name \n",
    "##it can be accessible inside the class and its subclasses\n"
   ]
  },
  {
   "cell_type": "code",
   "execution_count": 6,
   "id": "963db446",
   "metadata": {},
   "outputs": [
    {
     "data": {
      "text/plain": [
       "50"
      ]
     },
     "execution_count": 6,
     "metadata": {},
     "output_type": "execute_result"
    }
   ],
   "source": [
    "\n",
    "class student:\n",
    "    def __init__(self,name,marks):\n",
    "        self.name = name\n",
    "        self.__marks = marks\n",
    "    \n",
    "    def get_marks(self):\n",
    "        return self.__marks\n",
    "    \n",
    "    def set_marks(self,marks):\n",
    "        if 0 <= marks <= 100:\n",
    "            self.__marks = marks\n",
    "        else:\n",
    "            print(\"Invalid marks\")\n",
    "        \n",
    "s = student(\"abc\",50)\n",
    "##name mangling\n",
    "s._student__marks\n"
   ]
  }
 ],
 "metadata": {
  "kernelspec": {
   "display_name": "Python 3",
   "language": "python",
   "name": "python3"
  },
  "language_info": {
   "codemirror_mode": {
    "name": "ipython",
    "version": 3
   },
   "file_extension": ".py",
   "mimetype": "text/x-python",
   "name": "python",
   "nbconvert_exporter": "python",
   "pygments_lexer": "ipython3",
   "version": "3.13.5"
  }
 },
 "nbformat": 4,
 "nbformat_minor": 5
}
