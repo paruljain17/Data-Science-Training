{
 "cells": [
  {
   "cell_type": "code",
   "execution_count": null,
   "id": "44ea120f",
   "metadata": {},
   "outputs": [],
   "source": [
    "#class,object,method\n",
    "#types of oops\n",
    "#inheritance,polymorphism,encapsulation\n",
    "##inheritance--->single,multiple,multilevel,hierachial,hybrid"
   ]
  },
  {
   "cell_type": "code",
   "execution_count": null,
   "id": "8d538d9e",
   "metadata": {},
   "outputs": [],
   "source": [
    "#classs=blueprint of object\n",
    "#object=instance of class"
   ]
  },
  {
   "cell_type": "code",
   "execution_count": 4,
   "id": "9ad0cf5b",
   "metadata": {},
   "outputs": [
    {
     "data": {
      "text/plain": [
       "'abcxyz'"
      ]
     },
     "execution_count": 4,
     "metadata": {},
     "output_type": "execute_result"
    }
   ],
   "source": [
    "class car:\n",
    "    #class variable\n",
    "    num1=10\n",
    "    num2=20\n",
    "    name=\"abc\"\n",
    "    model=\"xyz\"\n",
    "#class k andar function hoga toh that is known as method\n",
    "#self is used to access the variables of class inside the class\n",
    "    def add(self):\n",
    "        return self.num1 + self.num2\n",
    "    def display(self):\n",
    "        return self.name + self.model\n",
    "    \n",
    "\n",
    "obj = car()\n",
    "obj.display()\n",
    "\n"
   ]
  },
  {
   "cell_type": "code",
   "execution_count": 5,
   "id": "8fa0a2ee",
   "metadata": {},
   "outputs": [],
   "source": [
    "#init -- constructor --initialize the variable \n",
    "#it is used when we want to take input from the user \n",
    "class animal:\n",
    "    def __init__(self,name,age):\n",
    "        self.name= name\n",
    "        self.age= age \n",
    "    def display(self):\n",
    "        return self.name , self.age\n",
    "\n"
   ]
  },
  {
   "cell_type": "code",
   "execution_count": null,
   "id": "30f9b6a9",
   "metadata": {},
   "outputs": [],
   "source": [
    "#single inheritance\n"
   ]
  },
  {
   "cell_type": "code",
   "execution_count": 23,
   "id": "fe3ede1d",
   "metadata": {},
   "outputs": [
    {
     "name": "stdout",
     "output_type": "stream",
     "text": [
      "abc\n"
     ]
    }
   ],
   "source": [
    "#super keyword is used to acess the method and class of parent class int the child class\n",
    "\n",
    "class person:\n",
    "    def __init__(self,name):\n",
    "        self.name=name\n",
    "    def show(self):\n",
    "        return self.name\n",
    "    \n",
    "\n",
    "   \n",
    "\n",
    "class employee(person):\n",
    "    def __init__(self,name,salary):\n",
    "        super().__init__(name)\n",
    "        self.salary =salary\n",
    "    # def showsalary(self):\n",
    "    #         return self.salary\n",
    "\n",
    "   \n",
    "\n",
    "obj = employee(\"abc\",2000)\n",
    "print(obj.show())\n"
   ]
  },
  {
   "cell_type": "code",
   "execution_count": 19,
   "id": "c53cd74c",
   "metadata": {},
   "outputs": [],
   "source": [
    "#multiple inheritance--->single child class and multiple parent class means child is inherit from the multiple parent class\n",
    "class job:\n",
    "    def __init__(self,salary):\n",
    "        self.salary = salary\n",
    "\n",
    "class EmployeePersonJjb(employee,job):\n",
    "        def __init__(self, name, salary):\n",
    "            employee.__init__(self,name,salary)\n",
    "            job.__init__(self,salary)\n",
    "           "
   ]
  },
  {
   "cell_type": "code",
   "execution_count": 25,
   "id": "d3a98648",
   "metadata": {},
   "outputs": [
    {
     "name": "stdout",
     "output_type": "stream",
     "text": [
      "meow\n",
      "bark\n"
     ]
    }
   ],
   "source": [
    "#polymorphism --many forms ---the same function or method behave differently based on the input\n",
    "\n",
    "class Cat:\n",
    "    def sound(self):\n",
    "        return \"meow\"\n",
    "   \n",
    "class Dog:\n",
    "    def sound(self):\n",
    "        return \"bark\"\n",
    "    \n",
    "def make_sound(animal):\n",
    "    return animal.sound()\n",
    "\n",
    "Obj1= Cat()\n",
    "Obj2=Dog()\n",
    "\n",
    "print(make_sound(Obj1))\n",
    "print(make_sound(Obj2))\n"
   ]
  },
  {
   "cell_type": "code",
   "execution_count": 37,
   "id": "5723d202",
   "metadata": {},
   "outputs": [
    {
     "name": "stdout",
     "output_type": "stream",
     "text": [
      "28.259999999999998\n",
      "36\n",
      "21\n"
     ]
    }
   ],
   "source": [
    "class circle:\n",
    "    def area(self):\n",
    "        r = int(input(\"enter the value of radius\"))\n",
    "        return 3.14*r*r\n",
    "       \n",
    "    \n",
    "\n",
    "class square:\n",
    "    def area(self):\n",
    "         a = int(input(\"enter the value of side of square a\"))\n",
    "         return a*a\n",
    "class rectangle:\n",
    "    def area(self):\n",
    "        l=int(input(\"enter the value of length\"))\n",
    "        b=int(input(\"emter the value of breadth\"))\n",
    "        return l*b\n",
    "\n",
    "def shape_area(shape):\n",
    "    return shape.area()\n",
    "\n",
    "c = circle()\n",
    "s = square()\n",
    "r = rectangle()\n",
    "\n",
    "print(shape_area(c))\n",
    "print(shape_area(s))\n",
    "print(shape_area(r))"
   ]
  },
  {
   "cell_type": "code",
   "execution_count": null,
   "id": "ae867ceb",
   "metadata": {},
   "outputs": [],
   "source": [
    "#encapsulation\n"
   ]
  },
  {
   "cell_type": "code",
   "execution_count": null,
   "id": "963db446",
   "metadata": {},
   "outputs": [],
   "source": [
    "class student\n"
   ]
  }
 ],
 "metadata": {
  "kernelspec": {
   "display_name": "Python 3",
   "language": "python",
   "name": "python3"
  },
  "language_info": {
   "codemirror_mode": {
    "name": "ipython",
    "version": 3
   },
   "file_extension": ".py",
   "mimetype": "text/x-python",
   "name": "python",
   "nbconvert_exporter": "python",
   "pygments_lexer": "ipython3",
   "version": "3.11.9"
  }
 },
 "nbformat": 4,
 "nbformat_minor": 5
}
